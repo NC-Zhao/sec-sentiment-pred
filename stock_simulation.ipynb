{
 "cells": [
  {
   "cell_type": "code",
   "execution_count": 9,
   "metadata": {
    "id": "R1p4kix1OYrA"
   },
   "outputs": [],
   "source": [
    "import pandas as pd\n",
    "import numpy as np\n",
    "import pickle\n",
    "import math\n",
    "import warnings\n",
    "# !pip install yfinance\n",
    "import yfinance as yf\n",
    "\"\"\"Evaluate trading strategy performance over time interval.\"\"\"\n",
    "from typing import List, Tuple, Dict\n",
    "# from datetime import datetime\n",
    "import datetime\n",
    "warnings.filterwarnings(\"ignore\")\n",
    "\n"
   ]
  },
  {
   "cell_type": "code",
   "execution_count": null,
   "metadata": {
    "id": "H5p1RKJ3ciJ_"
   },
   "outputs": [],
   "source": []
  },
  {
   "cell_type": "code",
   "execution_count": 2,
   "metadata": {
    "colab": {
     "base_uri": "https://localhost:8080/",
     "height": 329
    },
    "id": "54BVza8Tb4oW",
    "outputId": "28d3c0f8-96f1-41e6-f5eb-cdaedac9ef0d"
   },
   "outputs": [],
   "source": [
    "train_df = pd.read_csv('8k_data_labels.csv')"
   ]
  },
  {
   "cell_type": "code",
   "execution_count": 3,
   "metadata": {
    "colab": {
     "base_uri": "https://localhost:8080/",
     "height": 323
    },
    "id": "Sz_XV09dbQlX",
    "outputId": "ec727d47-bf74-443c-e43e-879b68f42bb3"
   },
   "outputs": [],
   "source": [
    "def load_historical_data(filename):\n",
    "    with open(filename, 'rb') as handle:\n",
    "        tikr_dict = pickle.load(handle)\n",
    "        return tikr_dict\n",
    "TIKRS_dat = load_historical_data('TIKR_DATA.pickle')"
   ]
  },
  {
   "cell_type": "code",
   "execution_count": 32,
   "metadata": {
    "id": "cV61uUckOdsb"
   },
   "outputs": [],
   "source": [
    "class StockSimulation:\n",
    "    def __init__(self, cash=1000000, tikrs = ['aapl','msft'], historical_data=TIKRS_dat):\n",
    "        self.cash = cash\n",
    "        self.tikrs = tikrs\n",
    "        self.portfolio = {}\n",
    "        for tikr in tikrs:\n",
    "          self.portfolio[tikr] = 0\n",
    "        self.active_log = []\n",
    "        self.transaction_log = []\n",
    "        self.transaction_cost = 0.01\n",
    "        self.historical_data = TIKRS_dat\n",
    "        \n",
    "    def get_price(self, tikr, date):\n",
    "        start = date\n",
    "        if type(start) is str:\n",
    "          start = datetime.datetime.strptime(start, '%Y%m%d')\n",
    "          \n",
    "        date = start.strftime('%Y-%m-%d')\n",
    "\n",
    "        company_df = self.historical_data[tikr]\n",
    "        return company_df[company_df['Date'] == date].iloc[0]['Open']\n",
    "#         return yf.download(\n",
    "#             tikr, \n",
    "#             start=start,\n",
    "#             interval= '1d', \n",
    "#             progress= False, ).loc[date]['Adj Close']\n",
    "\n",
    "\n",
    "\n",
    "    def buy(self, tikr, date, allocated_money):\n",
    "        # check if there is enough cash to buy\n",
    "        if self.cash < allocated_money:\n",
    "            print(\"Not enough cash to buy\")\n",
    "            return\n",
    "\n",
    "        # calculate number of shares to buy\n",
    "        price = self.get_price(tikr, date)\n",
    "        shares = int(allocated_money / price)\n",
    "\n",
    "        # update portfolio and cash balance\n",
    "        if tikr in self.active_log:\n",
    "            self.portfolio[tikr] += shares\n",
    "        else:\n",
    "            self.portfolio[tikr] = shares\n",
    "            self.active_log.append(tikr)\n",
    "        # minus the cost of stock\n",
    "        stock_cost = shares * price\n",
    "        # minus trasaction cost\n",
    "        self.cash -= stock_cost * (1 + self.transaction_cost)\n",
    "\n",
    "\n",
    "        # log transaction\n",
    "        self.transaction_log.append({\n",
    "            \"type\": \"buy\",\n",
    "            \"tikr\": tikr,\n",
    "            \"date\": date,\n",
    "            \"shares\": shares,\n",
    "            \"price\": price,\n",
    "            \"amount\": stock_cost ,\n",
    "            \"transaction_cost\": stock_cost * self.transaction_cost,\n",
    "            \"balance\": self.active_balance(date)\n",
    "        })\n",
    "\n",
    "    def sell(self, tikr, date, allocated_money):\n",
    "        # check if there are enough shares to sell\n",
    "        if tikr not in self.portfolio:\n",
    "            print(\"No shares of {} in portfolio\".format(tikr))\n",
    "            return\n",
    "\n",
    "\n",
    "        # calculate number of shares to sell\n",
    "        price = self.get_price(tikr, date)\n",
    "        shares = int(allocated_money / price)\n",
    "\n",
    "\n",
    "        if self.portfolio[tikr] < shares:\n",
    "            print(\"Not enough shares of {} to sell\".format(tikr))\n",
    "            return\n",
    "\n",
    "        # update portfolio and cash balance\n",
    "        self.portfolio[tikr] -= shares\n",
    "        if self.portfolio[tikr] == 0:\n",
    "            self.active_log.remove(tikr)\n",
    "\n",
    "        # plus the earning\n",
    "        stock_cost = shares * price\n",
    "        self.cash += stock_cost\n",
    "        # minus trasaction cost\n",
    "        self.cash -= stock_cost *  self.transaction_cost\n",
    "\n",
    "\n",
    "        # log transaction\n",
    "        self.transaction_log.append({\n",
    "            \"type\": \"sell\",\n",
    "            \"tikr\": tikr,\n",
    "            \"date\": date,\n",
    "            \"shares\": shares,\n",
    "            \"price\": price,\n",
    "            \"amount\": stock_cost ,\n",
    "            \"transaction_cost\": stock_cost * self.transaction_cost,\n",
    "            \"balance\": self.active_balance(date)\n",
    "        })\n",
    "\n",
    "    #TODO\n",
    "    def get_next_trading_date(self,tikr, date):\n",
    "        return None\n",
    "\n",
    "    def rebalance(self,percentage,date):\n",
    "      buy = []\n",
    "      for tikr, percent in zip(self.tikrs, percentage):\n",
    "        price = self.get_price(tikr, date)\n",
    "        expected_value = self.active_balance(date) * percent\n",
    "        current_value = self.portfolio[tikr] * price\n",
    "\n",
    "        allocated_money = expected_value - current_value\n",
    "\n",
    "        if allocated_money > 0:\n",
    "          self.sell(tikr, date, allocated_money)\n",
    "        else:\n",
    "          buy += [(tikr, allocated_money)]\n",
    "\n",
    "      for tikr, allocated_money in buy:\n",
    "        self.buy(tikr, date, allocated_money)\n",
    "\n",
    "\n",
    "\n",
    "\n",
    "    def active_balance(self, date):\n",
    "        balance = self.cash\n",
    "        for tikr in self.active_log:\n",
    "            price = self.get_price(tikr, date)\n",
    "            balance += self.portfolio[tikr] * price\n",
    "        return balance\n",
    "\n",
    "    def transaction_summary(self):\n",
    "        for txn in self.transaction_log:\n",
    "            print(\"{} {} {} shares of {} at ${:.2f} for ${:.2f} (transaction cost: ${:.2f}), balance: ${:.2f}\".format(\n",
    "                txn['date'], txn['type'], txn['shares'], txn['tikr'], txn['price'], txn['amount'], txn['transaction_cost'], txn['balance']))\n"
   ]
  },
  {
   "cell_type": "code",
   "execution_count": 31,
   "metadata": {
    "id": "q8gLzB-tKoa8"
   },
   "outputs": [
    {
     "ename": "SyntaxError",
     "evalue": "expected ':' (186977707.py, line 52)",
     "output_type": "error",
     "traceback": [
      "\u001b[0;36m  Cell \u001b[0;32mIn [31], line 52\u001b[0;36m\u001b[0m\n\u001b[0;31m    for date, value in strategy.items()\u001b[0m\n\u001b[0m                                       ^\u001b[0m\n\u001b[0;31mSyntaxError\u001b[0m\u001b[0;31m:\u001b[0m expected ':'\n"
     ]
    }
   ],
   "source": [
    "\n",
    "\n",
    "\n",
    "\"\"\" All trading strategies should have standardized input to work in automated\n",
    "    downstream testing.\"\"\"\n",
    "\n",
    "\n",
    "def trading_strategy(\n",
    "        predictions: List[Tuple(float, float, float)],\n",
    "        company_list: List[str]\n",
    "            ) -> Dict[datetime, List[float]]:\n",
    "    \"\"\"Calculate portfolio holdings at time intervals given 8-K labels.\"\"\"\n",
    "\n",
    "    strategy = dict()\n",
    "\n",
    "    return strategy\n",
    "\n",
    "\n",
    "def get_strategy_annual_return(\n",
    "        strategy: Dict[datetime, List[float]],\n",
    "        company_list: List[str],\n",
    "        end_date: datetime,\n",
    "        starting_balance: int = 1e7,\n",
    "        start_date: datetime = '20000101') -> float:\n",
    "    \"\"\"\n",
    "    Calculate annual return over time period.\n",
    "    \n",
    "    Parameters\n",
    "    ----------\n",
    "    strategy: Dict[datetime, List[float]]\n",
    "        A dictionary of portfolio rebalance dates associated with portfolio\n",
    "        allocation percentages. The portfolio allocation percentages share the\n",
    "        same indexing as company_list.\n",
    "    company_list: List[str]\n",
    "        The companies invested into by the trading strategy percent allocation.\n",
    "    start_date: datetime, str\n",
    "        Accepted format \"year_month_day\", or datetime object. The first day of\n",
    "        trading.\n",
    "    end_date: datetime, str\n",
    "        Accepted format \"year_month_day\", or datetime object. The final day of\n",
    "        trading used to determine net worth and annualized return.\n",
    "    starting_balance: int\n",
    "        The initial amount of money invested.\n",
    "    Returns\n",
    "    -------\n",
    "    Annualized Return: float\n",
    "        The annualized return rate, where 0% return indicates 1.00.\n",
    "    \"\"\"\n",
    "\n",
    "    if type(start_date) is str:\n",
    "        start_date = datetime.strptime(start_date, \"%Y%m%d\")\n",
    "    if type(end_date) is str:\n",
    "        end_date = datetime.strptime(end_date, \"%Y%m%d\")\n",
    "\n",
    "    for date, value in strategy.items()\n",
    "\n",
    "    # At each date, rebalance current networth to be distributed\n",
    "    # percentage-wise between companies in portfolio_allocations\n",
    "\n",
    "    return 1.00"
   ]
  },
  {
   "cell_type": "code",
   "execution_count": 36,
   "metadata": {
    "colab": {
     "base_uri": "https://localhost:8080/"
    },
    "id": "eEuAiPQXOmDb",
    "outputId": "a462e269-5798-44af-9c22-f80bee88b234"
   },
   "outputs": [
    {
     "data": {
      "text/plain": [
       "999800.3500000001"
      ]
     },
     "execution_count": 36,
     "metadata": {},
     "output_type": "execute_result"
    }
   ],
   "source": [
    "s = StockSimulation()\n",
    "s.get_price('msft', '20000110')\n",
    "s.buy('msft', '20000110', 10000)\n",
    "s.sell('msft', '20000110', 10000)\n",
    "s.active_balance('20000110')\n"
   ]
  },
  {
   "cell_type": "code",
   "execution_count": 37,
   "metadata": {
    "colab": {
     "base_uri": "https://localhost:8080/"
    },
    "id": "XMuZRqd9RNrR",
    "outputId": "da832a9f-5f39-460e-c573-9e0c7cfb22f5"
   },
   "outputs": [
    {
     "data": {
      "text/plain": [
       "999800.3500000001"
      ]
     },
     "execution_count": 37,
     "metadata": {},
     "output_type": "execute_result"
    }
   ],
   "source": [
    "s.cash "
   ]
  },
  {
   "cell_type": "code",
   "execution_count": 38,
   "metadata": {
    "colab": {
     "base_uri": "https://localhost:8080/"
    },
    "id": "K115auMzQT0q",
    "outputId": "e5868a61-f722-4dd0-cf8e-c61fb79f598a"
   },
   "outputs": [
    {
     "name": "stdout",
     "output_type": "stream",
     "text": [
      "20000110 buy 176 shares of msft at $56.72 for $9982.50 (transaction cost: $99.83), balance: $999900.18\n",
      "20000110 sell 176 shares of msft at $56.72 for $9982.50 (transaction cost: $99.83), balance: $999800.35\n"
     ]
    }
   ],
   "source": [
    "s.transaction_summary()"
   ]
  },
  {
   "cell_type": "code",
   "execution_count": null,
   "metadata": {},
   "outputs": [],
   "source": []
  },
  {
   "cell_type": "code",
   "execution_count": null,
   "metadata": {},
   "outputs": [],
   "source": []
  },
  {
   "cell_type": "code",
   "execution_count": null,
   "metadata": {},
   "outputs": [],
   "source": []
  },
  {
   "cell_type": "code",
   "execution_count": null,
   "metadata": {},
   "outputs": [],
   "source": []
  }
 ],
 "metadata": {
  "colab": {
   "provenance": []
  },
  "kernelspec": {
   "display_name": "Python 3 (ipykernel)",
   "language": "python",
   "name": "python3"
  },
  "language_info": {
   "codemirror_mode": {
    "name": "ipython",
    "version": 3
   },
   "file_extension": ".py",
   "mimetype": "text/x-python",
   "name": "python",
   "nbconvert_exporter": "python",
   "pygments_lexer": "ipython3",
   "version": "3.10.8"
  }
 },
 "nbformat": 4,
 "nbformat_minor": 1
}
