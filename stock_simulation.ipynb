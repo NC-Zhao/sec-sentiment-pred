{
 "cells": [
  {
   "cell_type": "code",
   "execution_count": 90,
   "metadata": {
    "id": "R1p4kix1OYrA"
   },
   "outputs": [],
   "source": [
    "import pandas as pd\n",
    "import numpy as np\n",
    "import pickle\n",
    "import math\n",
    "import warnings\n",
    "# !pip install yfinance\n",
    "import yfinance as yf\n",
    "\"\"\"Evaluate trading strategy performance over time interval.\"\"\"\n",
    "from typing import List, Tuple, Dict\n",
    "from datetime import datetime\n",
    "#import datetime\n",
    "\n",
    "warnings.filterwarnings(\"ignore\")\n",
    "\n"
   ]
  },
  {
   "cell_type": "code",
   "execution_count": 91,
   "metadata": {
    "colab": {
     "base_uri": "https://localhost:8080/",
     "height": 329
    },
    "id": "54BVza8Tb4oW",
    "outputId": "28d3c0f8-96f1-41e6-f5eb-cdaedac9ef0d"
   },
   "outputs": [],
   "source": [
    "#train_df = pd.read_csv('8k_data_labels.csv')"
   ]
  },
  {
   "cell_type": "code",
   "execution_count": 92,
   "metadata": {
    "colab": {
     "base_uri": "https://localhost:8080/",
     "height": 323
    },
    "id": "Sz_XV09dbQlX",
    "outputId": "ec727d47-bf74-443c-e43e-879b68f42bb3"
   },
   "outputs": [],
   "source": [
    "def load_historical_data(filename):\n",
    "    with open(filename, 'rb') as handle:\n",
    "        tikr_dict = pickle.load(handle)\n",
    "        return tikr_dict\n",
    "TIKRS_dat = load_historical_data('TIKR_DATA.pickle')"
   ]
  },
  {
   "cell_type": "code",
   "execution_count": 175,
   "metadata": {
    "id": "cV61uUckOdsb"
   },
   "outputs": [],
   "source": [
    "class StockSimulation:\n",
    "    def __init__(self, cash=1000000, tikrs = ['aapl','msft'], historical_data=TIKRS_dat):\n",
    "        self.cash = cash\n",
    "        self.tikrs = tikrs\n",
    "        self.portfolio = {}\n",
    "        for tikr in tikrs:\n",
    "            self.portfolio[tikr] = 0\n",
    "        self.active_log = []\n",
    "        self.transaction_log = []\n",
    "        self.transaction_cost = 0.01\n",
    "        self.historical_data = TIKRS_dat\n",
    "        \n",
    "    def get_price(self, tikr, date):\n",
    "        start = date\n",
    "        if type(start) is str:\n",
    "            start = datetime.strptime(start, '%Y%m%d')\n",
    "          \n",
    "        date = start.strftime('%Y-%m-%d')\n",
    "\n",
    "        company_df = self.historical_data[tikr]\n",
    "        return company_df[company_df['Date'] > date].iloc[0]['Open']\n",
    "#         return yf.download(\n",
    "#             tikr, \n",
    "#             start=start,\n",
    "#             interval= '1d', \n",
    "#             progress= False, ).loc[date]['Adj Close']\n",
    "\n",
    "\n",
    "\n",
    "    def buy(self, tikr, date, allocated_money):\n",
    "        # check if there is enough cash to buy\n",
    "        if self.cash < allocated_money:\n",
    "            print(\"Not enough cash to buy\")\n",
    "            return\n",
    "\n",
    "        # calculate number of shares to buy\n",
    "        price = self.get_price(tikr, date)\n",
    "        shares = allocated_money / price\n",
    "\n",
    "        # update portfolio and cash balance\n",
    "        if tikr in self.active_log:\n",
    "            self.portfolio[tikr] += shares\n",
    "        else:\n",
    "            self.portfolio[tikr] = shares\n",
    "            self.active_log.append(tikr)\n",
    "        # minus the cost of stock\n",
    "        stock_cost = shares * price\n",
    "        # minus trasaction cost\n",
    "        #self.cash -= stock_cost * (1 + self.transaction_cost)\n",
    "        self.cash -= stock_cost \n",
    "\n",
    "\n",
    "        # log transaction\n",
    "        self.transaction_log.append({\n",
    "            \"type\": \"buy\",\n",
    "            \"tikr\": tikr,\n",
    "            \"date\": date,\n",
    "            \"shares\": shares,\n",
    "            \"price\": price,\n",
    "            \"amount\": stock_cost ,\n",
    "            \"transaction_cost\": 0,\n",
    "            \"balance\": self.active_balance(date)\n",
    "        })\n",
    "\n",
    "    def sell(self, tikr, date, allocated_money):\n",
    "        # check if there are enough shares to sell\n",
    "        if tikr not in self.portfolio:\n",
    "            print(\"No shares of {} in portfolio\".format(tikr))\n",
    "            return\n",
    "\n",
    "\n",
    "        # calculate number of shares to sell\n",
    "        price = self.get_price(tikr, date)\n",
    "        shares = allocated_money / price\n",
    "\n",
    "\n",
    "        if self.portfolio[tikr] < shares:\n",
    "            print(\"Not enough shares of {} to sell\".format(tikr))\n",
    "            return\n",
    "\n",
    "        # update portfolio and cash balance\n",
    "        self.portfolio[tikr] -= shares\n",
    "        if self.portfolio[tikr] == 0:\n",
    "            self.active_log.remove(tikr)\n",
    "\n",
    "        # plus the earning\n",
    "        stock_cost = shares * price\n",
    "        self.cash += stock_cost\n",
    "        # minus trasaction cost\n",
    "        self.cash -= stock_cost *  self.transaction_cost\n",
    "\n",
    "\n",
    "        # log transaction\n",
    "        self.transaction_log.append({\n",
    "            \"type\": \"sell\",\n",
    "            \"tikr\": tikr,\n",
    "            \"date\": date,\n",
    "            \"shares\": shares,\n",
    "            \"price\": price,\n",
    "            \"amount\": stock_cost ,\n",
    "            \"transaction_cost\": stock_cost * self.transaction_cost,\n",
    "            \"balance\": self.active_balance(date)\n",
    "        })\n",
    "\n",
    "    #TODO\n",
    "    def get_next_trading_date(self,tikr, date):\n",
    "        return None\n",
    "\n",
    "    def rebalance(self,percentage,date):\n",
    "        buy = []\n",
    "        \n",
    "        \n",
    "        true_balance = self.active_balance(date) * 0.99\n",
    "        for tikr, percent in zip(self.tikrs, percentage):\n",
    "            price = self.get_price(tikr, date)\n",
    "            expected_value = true_balance * percent\n",
    "            current_value = self.portfolio[tikr] * price\n",
    "            allocated_money = expected_value - current_value\n",
    "\n",
    "            if allocated_money < 0:\n",
    "                self.sell(tikr, date, -1 * allocated_money)\n",
    "                #total_transaction += self.transaction_log[-1]['transaction_cost']\n",
    "            else:\n",
    "                buy += [(tikr, allocated_money )]\n",
    "        \n",
    "       # avg_transaction = total_transaction/len(buy)\n",
    "        for tikr, allocated_money in buy:\n",
    "            self.buy(tikr, date, allocated_money )#- avg_transaction)\n",
    "\n",
    "\n",
    "\n",
    "\n",
    "    def active_balance(self, date):\n",
    "        balance = self.cash\n",
    "        for tikr in self.active_log:\n",
    "            price = self.get_price(tikr, date)\n",
    "            balance += self.portfolio[tikr] * price\n",
    "        return balance\n",
    "    \n",
    "    def print_portfolio(self, date):\n",
    "        balance = self.active_balance(date)\n",
    "        for tikr in self.tikrs:\n",
    "            price = self.get_price(tikr, date)\n",
    "            tikr_holding = self.portfolio[tikr] * price\n",
    "            print(tikr, tikr_holding/balance )\n",
    "            \n",
    "\n",
    "    def transaction_summary(self):\n",
    "        for txn in self.transaction_log:\n",
    "            print(\"{} {} {} shares of {} at ${:.2f} for ${:.2f} (transaction cost: ${:.2f}), balance: ${:.2f}\".format(\n",
    "                txn['date'], txn['type'], txn['shares'], txn['tikr'], txn['price'], txn['amount'], txn['transaction_cost'], txn['balance']))\n"
   ]
  },
  {
   "cell_type": "code",
   "execution_count": 176,
   "metadata": {},
   "outputs": [
    {
     "data": {
      "text/plain": [
       "array([2, 0])"
      ]
     },
     "execution_count": 176,
     "metadata": {},
     "output_type": "execute_result"
    }
   ],
   "source": [
    "a =[[1,2,3],[3,2,1]]\n",
    "np.argmax(a, axis=1)"
   ]
  },
  {
   "cell_type": "code",
   "execution_count": 177,
   "metadata": {
    "id": "q8gLzB-tKoa8"
   },
   "outputs": [],
   "source": [
    "\n",
    "\n",
    "\n",
    "\"\"\" All trading strategies should have standardized input to work in automated\n",
    "    downstream testing.\"\"\"\n",
    "\n",
    "\"\"\"\n",
    "def trading_strategy(\n",
    "        dates,\n",
    "        predictions,\n",
    "        company_list: List[str]\n",
    "            ) -> Dict[str, List[float]]:\n",
    "    \n",
    "    strategy = dict()\n",
    "    predictions = np.argmax(predictions, axis=1)\n",
    "    for date, tikr, pred in zip(dates, tikrs, predictions):\n",
    "        if pred == 0: #underperforms\n",
    "            \n",
    "            #sell\n",
    "            \n",
    "            \n",
    "        \n",
    "    \n",
    "    return strategy\n",
    "\"\"\"\n",
    "\n",
    "def get_strategy_annual_return(\n",
    "        strategy: Dict[str, List[float]],\n",
    "        company_list: List[str],\n",
    "        end_date,\n",
    "        starting_balance: int = 1e7,\n",
    "        start_date: datetime = '20000101') -> float:\n",
    "    \"\"\"\n",
    "    Calculate annual return over time period.\n",
    "    \n",
    "    Parameters\n",
    "    ----------\n",
    "    strategy: Dict[datetime, List[float]]\n",
    "        A dictionary of portfolio rebalance dates associated with portfolio\n",
    "        allocation percentages. The portfolio allocation percentages share the\n",
    "        same indexing as company_list.\n",
    "    company_list: List[str]\n",
    "        The companies invested into by the trading strategy percent allocation.\n",
    "    start_date: datetime, str\n",
    "        Accepted format \"year_month_day\", or datetime object. The first day of\n",
    "        trading.\n",
    "    end_date: datetime, str\n",
    "        Accepted format \"year_month_day\", or datetime object. The final day of\n",
    "        trading used to determine net worth and annualized return.\n",
    "    starting_balance: int\n",
    "        The initial amount of money invested.\n",
    "    Returns\n",
    "    -------\n",
    "    Annualized Return: float\n",
    "        The annualized return rate, where 0% return indicates 1.00.\n",
    "    \"\"\"\n",
    "\n",
    "    if type(start_date) is str:\n",
    "        start_date = datetime.strptime(start_date, \"%Y%m%d\")\n",
    "    if type(end_date) is str:\n",
    "        end_date = datetime.strptime(end_date, \"%Y%m%d\")\n",
    "\n",
    "    s = StockSimulation(cash = starting_balance, tikrs = company_list)\n",
    "    for date, portfolio_allocation in strategy.items():\n",
    "        try:\n",
    "            s.rebalance(percentage= portfolio_allocation, date = date)\n",
    "            print(date, \" balance:\",s.active_balance(date))\n",
    "        except:\n",
    "            print('rebalance')\n",
    "\n",
    "\n",
    "\n",
    "\n",
    "    # At each date, rebalance current networth to be distributed\n",
    "    # percentage-wise between companies in portfolio_allocations\n",
    "\n",
    "    return s.active_balance(end_date)/starting_balance"
   ]
  },
  {
   "cell_type": "code",
   "execution_count": 178,
   "metadata": {
    "colab": {
     "base_uri": "https://localhost:8080/"
    },
    "id": "eEuAiPQXOmDb",
    "outputId": "a462e269-5798-44af-9c22-f80bee88b234"
   },
   "outputs": [
    {
     "data": {
      "text/plain": [
       "999900.0"
      ]
     },
     "execution_count": 178,
     "metadata": {},
     "output_type": "execute_result"
    }
   ],
   "source": [
    "s = StockSimulation()\n",
    "s.get_price('msft', '20000110')\n",
    "s.buy('msft', '20000110', 10000)\n",
    "s.sell('msft', '20000110', 10000)\n",
    "s.active_balance('20000110')\n"
   ]
  },
  {
   "cell_type": "code",
   "execution_count": 179,
   "metadata": {
    "colab": {
     "base_uri": "https://localhost:8080/"
    },
    "id": "XMuZRqd9RNrR",
    "outputId": "da832a9f-5f39-460e-c573-9e0c7cfb22f5"
   },
   "outputs": [
    {
     "name": "stdout",
     "output_type": "stream",
     "text": [
      "aapl 0.495\n",
      "msft 0.495\n",
      "aapl 0.29774248620736027\n",
      "msft 0.694732467817174\n"
     ]
    }
   ],
   "source": [
    "s = StockSimulation(cash =1000)\n",
    "s.rebalance([0.5,0.5],'20001210')\n",
    "s.print_portfolio( '20001210')\n",
    "s.rebalance([0.3,0.7], \"20011210\")\n",
    "s.print_portfolio( \"20011210\")\n",
    "s.rebalance([0,0],'20100112')"
   ]
  },
  {
   "cell_type": "code",
   "execution_count": 173,
   "metadata": {
    "colab": {
     "base_uri": "https://localhost:8080/"
    },
    "id": "K115auMzQT0q",
    "outputId": "e5868a61-f722-4dd0-cf8e-c61fb79f598a"
   },
   "outputs": [
    {
     "name": "stdout",
     "output_type": "stream",
     "text": [
      "20001210 buy 1825.1875346835704 shares of aapl at $0.27 for $495.00 (transaction cost: $0.00), balance: $1000.00\n",
      "20001210 buy 17.83783783783784 shares of msft at $27.75 for $495.00 (transaction cost: $0.00), balance: $1000.00\n"
     ]
    }
   ],
   "source": [
    "s.transaction_summary()"
   ]
  },
  {
   "cell_type": "code",
   "execution_count": 163,
   "metadata": {},
   "outputs": [
    {
     "data": {
      "text/plain": [
       "8132.000126617264"
      ]
     },
     "execution_count": 163,
     "metadata": {},
     "output_type": "execute_result"
    }
   ],
   "source": []
  },
  {
   "cell_type": "code",
   "execution_count": 161,
   "metadata": {},
   "outputs": [],
   "source": [
    "company_list = ['aapl', 'msft']\n",
    "end_date = \"20100112\"\n",
    "start_date = '20001210'\n",
    "starting_balance = 1000\n",
    "strategy = {\"20001210\": [0.5,0.5], \"20011210\": [0.3,0.7],\"20100112\": [0,0] }"
   ]
  },
  {
   "cell_type": "code",
   "execution_count": 162,
   "metadata": {},
   "outputs": [
    {
     "name": "stdout",
     "output_type": "stream",
     "text": [
      "20001210  balance: 1000.0\n",
      "20011210  balance: 1348.9560177068931\n",
      "20100112  balance: 8132.000126617264\n"
     ]
    },
    {
     "data": {
      "text/plain": [
       "8.132000126617264"
      ]
     },
     "execution_count": 162,
     "metadata": {},
     "output_type": "execute_result"
    }
   ],
   "source": [
    "get_strategy_annual_return(strategy,company_list,end_date,starting_balance, start_date)"
   ]
  },
  {
   "cell_type": "code",
   "execution_count": null,
   "metadata": {},
   "outputs": [],
   "source": []
  }
 ],
 "metadata": {
  "colab": {
   "provenance": []
  },
  "kernelspec": {
   "display_name": "Python 3 (ipykernel)",
   "language": "python",
   "name": "python3"
  },
  "language_info": {
   "codemirror_mode": {
    "name": "ipython",
    "version": 3
   },
   "file_extension": ".py",
   "mimetype": "text/x-python",
   "name": "python",
   "nbconvert_exporter": "python",
   "pygments_lexer": "ipython3",
   "version": "3.9.12"
  }
 },
 "nbformat": 4,
 "nbformat_minor": 1
}
